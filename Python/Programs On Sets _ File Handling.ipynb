{
 "cells": [
  {
   "cell_type": "code",
   "execution_count": 1,
   "metadata": {},
   "outputs": [
    {
     "name": "stdout",
     "output_type": "stream",
     "text": [
      "2\n"
     ]
    }
   ],
   "source": [
    "# Python Program to Count the Number of Vowels Present in a String using Sets:\n",
    "\n",
    "def count_vowels(str):\n",
    "    count = 0\n",
    "    vowel=set('aeiouAEIOU')\n",
    "    for i in str:\n",
    "        if i in vowel:\n",
    "            count+=1\n",
    "    return count\n",
    "\n",
    "instring='TestString'\n",
    "vowel_count = count_vowels(instring)\n",
    "print(vowel_count)"
   ]
  },
  {
   "cell_type": "code",
   "execution_count": 2,
   "metadata": {},
   "outputs": [
    {
     "name": "stdout",
     "output_type": "stream",
     "text": [
      "{'i', 'e', ' ', 'T', 's', 't', 'r', 'n', 'g', 'S'}\n"
     ]
    }
   ],
   "source": [
    "# Python Program to Check Common Letters in Two Input Strings:\n",
    "\n",
    "def common_letters(inpstr1,inpstr2):\n",
    "    com_set=set(inpstr1).intersection(set(inpstr2))\n",
    "    print(com_set)\n",
    "inpstr1='Test String'\n",
    "inpstr2='Test String1'\n",
    "common_letters(inpstr1,inpstr2)"
   ]
  },
  {
   "cell_type": "code",
   "execution_count": 10,
   "metadata": {},
   "outputs": [
    {
     "name": "stdout",
     "output_type": "stream",
     "text": [
      "{'c', 'o', 'i', 'e', 'h', 'T', 'n', 's', 't', 'K', 'r', ' ', 'g', 'P', 'S'}\n",
      "{'i', 'e', 'T', 'n', 's', 't', '1', 'r', ' ', 'g', 'S'}\n",
      "{'c', 'o', 'h', 'K', 'P'}\n"
     ]
    }
   ],
   "source": [
    "# Python Program that Displays which Letters are in the First String but not in the Second:\n",
    "\n",
    "def diff_letters(inpstr1,inpstr2):\n",
    "    diff_set=set(inpstr1).difference(set(inpstr2))\n",
    "    print(diff_set)\n",
    "inpstr1='Test String Pete Kochi'\n",
    "inpstr2='Test String1'\n",
    "diff_letters(inpstr1,inpstr2)"
   ]
  },
  {
   "cell_type": "code",
   "execution_count": 11,
   "metadata": {},
   "outputs": [
    {
     "name": "stdout",
     "output_type": "stream",
     "text": [
      "{'i', 'e', ' ', 'T', 's', 't', 'r', 'n', 'g', 'S'}\n"
     ]
    }
   ],
   "source": [
    "# Python Program that Displays which Letters are Present in Both the Strings:\n",
    "\n",
    "def common_letters(inpstr1,inpstr2):\n",
    "    com_set=set(inpstr1).intersection(set(inpstr2))\n",
    "    print(com_set)\n",
    "inpstr1='Test String'\n",
    "inpstr2='Test String1'\n",
    "common_letters(inpstr1,inpstr2)"
   ]
  },
  {
   "cell_type": "code",
   "execution_count": 12,
   "metadata": {},
   "outputs": [
    {
     "name": "stdout",
     "output_type": "stream",
     "text": [
      "{'1'}\n"
     ]
    }
   ],
   "source": [
    "# Python Program that Displays which Letters are in the Two Strings but not in Both:\n",
    "\n",
    "def unique_letters(inpstr1,inpstr2):\n",
    "    unique_set=set(inpstr1)^(set(inpstr2))\n",
    "    print(unique_set)\n",
    "inpstr1='Test String'\n",
    "inpstr2='Test String1'\n",
    "unique_letters(inpstr1,inpstr2)"
   ]
  },
  {
   "cell_type": "markdown",
   "metadata": {},
   "source": [
    "# File Handling:"
   ]
  },
  {
   "cell_type": "code",
   "execution_count": 18,
   "metadata": {},
   "outputs": [
    {
     "name": "stdout",
     "output_type": "stream",
     "text": [
      "Hello\n",
      "Hello Sir\n",
      "Tomy is playing in park\n",
      "Hello I am reading a book\n"
     ]
    }
   ],
   "source": [
    "# Python Program to Read the Contents of a File:\n",
    "\n",
    "try:\n",
    "    with open('TestFile.txt', 'r') as f:\n",
    "        print(f.read())\n",
    "except  IOError:\n",
    "    print('File open error')\n"
   ]
  },
  {
   "cell_type": "code",
   "execution_count": 25,
   "metadata": {},
   "outputs": [
    {
     "name": "stdout",
     "output_type": "stream",
     "text": [
      "['Hello\\n', 'Hello Sir\\n', 'Tomy is playing in park\\n', 'Hello I am reading a book']\n",
      "line count 4\n",
      "Word Count 14\n"
     ]
    }
   ],
   "source": [
    "# Python Program to Count the Number of Words in a Text File:\n",
    "word_count=0\n",
    "try:\n",
    "    with open('TestFile.txt', 'r') as f:\n",
    "        str_list=f.readlines()\n",
    "        print(str_list)\n",
    "        print('line count',len(str_list))\n",
    "        for i in str_list:\n",
    "            word_count+=len(i.split())\n",
    "except IOError:\n",
    "            print('File open error')\n",
    "print('Word Count',word_count)"
   ]
  },
  {
   "cell_type": "code",
   "execution_count": 27,
   "metadata": {},
   "outputs": [
    {
     "name": "stdout",
     "output_type": "stream",
     "text": [
      "Enter Input String'Blue Green'\n",
      "Hello\n",
      "Hello Sir\n",
      "Tomy is playing in park\n",
      "Hello I am reading a bookBlue Green\n"
     ]
    }
   ],
   "source": [
    "# Python Program to Read a String from the User and Append it into a File:\n",
    "\n",
    "str=eval(input('Enter Input String'))\n",
    "try:\n",
    "    with open('TestFile.txt', 'a+') as f:\n",
    "        f.write(str)\n",
    "        f.seek(0)\n",
    "        print(f.read())\n",
    "except IOError:\n",
    "            print('File open error')\n"
   ]
  },
  {
   "cell_type": "code",
   "execution_count": 31,
   "metadata": {},
   "outputs": [
    {
     "name": "stdout",
     "output_type": "stream",
     "text": [
      "Hello\n",
      "Hello Sir\n",
      "Tomy is playing in park\n",
      "Hello I am reading a bookBlue GreenHello\n",
      "Hello Sir\n",
      "Tomy is playing in park\n",
      "Hello I am reading a bookBlue GreenHello\n",
      "Hello Sir\n",
      "Tomy is playing in park\n",
      "Hello I am reading a bookBlue GreenHello\n",
      "Hello Sir\n",
      "Tomy is playing in park\n",
      "Hello I am reading a bookBlue Green\n"
     ]
    }
   ],
   "source": [
    "# Python Program to Copy the Contents of One File into Another:\n",
    "try:\n",
    "    with open('TestFile.txt', 'r+') as f:\n",
    "        f.seek(0)\n",
    "        with open('TestFile_Copy.txt','a+') as copyf:\n",
    "            copyf.write(f.read())\n",
    "            copyf.seek(0)\n",
    "            print(copyf.read())\n",
    "except IOError:\n",
    "            print('File open error')"
   ]
  },
  {
   "cell_type": "code",
   "execution_count": 35,
   "metadata": {},
   "outputs": [
    {
     "name": "stdout",
     "output_type": "stream",
     "text": [
      "['Hello\\n', 'Hello Sir\\n', 'Tomy is playing in park\\n', 'Hello I am reading a bookBlue Green']\n",
      "line count 4\n",
      "Character count 6\n"
     ]
    }
   ],
   "source": [
    "# Python Program that Reads a Text File and Counts the Number of Times a Certain Letter Appears in the Text File:\n",
    "count=0\n",
    "inpchar='o'\n",
    "try:\n",
    "    with open('TestFile.txt', 'r') as f:\n",
    "        str_list=f.readlines()\n",
    "        print(str_list)\n",
    "        print('line count',len(str_list))\n",
    "        for i in str_list:\n",
    "            count+=i.count(inpchar)\n",
    "except IOError:\n",
    "            print('File open error')\n",
    "print('Character count',count)"
   ]
  },
  {
   "cell_type": "code",
   "execution_count": 36,
   "metadata": {},
   "outputs": [
    {
     "name": "stdout",
     "output_type": "stream",
     "text": [
      "['Hello\\n', 'Hello Sir\\n', 'Tomy is playing in park\\n', 'Hello I am reading a bookBlue Green']\n",
      "line count 4\n",
      "Character count 11\n"
     ]
    }
   ],
   "source": [
    "# Python Program to Count the Number of Blank Spaces in a Text File:\n",
    "count=0\n",
    "inpchar=' '\n",
    "try:\n",
    "    with open('TestFile.txt', 'r') as f:\n",
    "        str_list=f.readlines()\n",
    "        print(str_list)\n",
    "        print('line count',len(str_list))\n",
    "        for i in str_list:\n",
    "            count+=i.count(inpchar)\n",
    "except IOError:\n",
    "            print('File open error')\n",
    "print('Character count',count)"
   ]
  },
  {
   "cell_type": "code",
   "execution_count": 39,
   "metadata": {},
   "outputs": [
    {
     "name": "stdout",
     "output_type": "stream",
     "text": [
      "['Hello,Happy new Year', 'hello,Happy Holidays\\n', 'Hello,Happy Weekend\\n', 'Hello Sir\\n', 'hello\\n']\n"
     ]
    }
   ],
   "source": [
    "# Python Program to Read the Contents of a File in Reverse Order:\n",
    "try:\n",
    "    with open('TestFile.txt','r') as f:\n",
    "        str_list=f.readlines()\n",
    "        print(str_list[::-1])\n",
    "except IOError:\n",
    "        print('File open error')        "
   ]
  },
  {
   "cell_type": "code",
   "execution_count": null,
   "metadata": {},
   "outputs": [],
   "source": []
  }
 ],
 "metadata": {
  "kernelspec": {
   "display_name": "Python 3",
   "language": "python",
   "name": "python3"
  },
  "language_info": {
   "codemirror_mode": {
    "name": "ipython",
    "version": 3
   },
   "file_extension": ".py",
   "mimetype": "text/x-python",
   "name": "python",
   "nbconvert_exporter": "python",
   "pygments_lexer": "ipython3",
   "version": "3.8.5"
  }
 },
 "nbformat": 4,
 "nbformat_minor": 4
}
