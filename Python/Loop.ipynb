{
 "cells": [
  {
   "cell_type": "code",
   "execution_count": 17,
   "metadata": {},
   "outputs": [
    {
     "name": "stdout",
     "output_type": "stream",
     "text": [
      "Enter number : 1\n",
      "one\n"
     ]
    }
   ],
   "source": [
    "# Q. W. A P. which takes one number from 0 to 9 from the user and prints\n",
    "# it in the word. And if the word is not from 0 to 9 then\n",
    "# it should print that number is outside of the range and program should\n",
    "# exit.\n",
    "# For exapmple:-\n",
    "# input = 1\n",
    "# output = one\n",
    "\n",
    "num = eval(input('Enter number : '))\n",
    "if (num ==0):\n",
    "    print('zero')\n",
    "elif (num ==1):\n",
    "    print('one')\n",
    "elif(num ==2):\n",
    "    print('two')\n",
    "elif(num ==3):\n",
    "    print('three')\n",
    "elif (num ==4):\n",
    "    print('four')\n",
    "elif(num ==5):\n",
    "    print('five')\n",
    "elif(num ==6):\n",
    "    print('six')\n",
    "elif(num ==7):\n",
    "    print('seven')\n",
    "elif(num ==8):\n",
    "    print('eight')\n",
    "elif(num ==9):\n",
    "    print('nine')\n",
    "else:\n",
    "    print('Number out of range')"
   ]
  },
  {
   "cell_type": "code",
   "execution_count": 2,
   "metadata": {},
   "outputs": [
    {
     "name": "stdout",
     "output_type": "stream",
     "text": [
      "Please select any one operation from below:-\n",
      "     * To add enter 1\n",
      "     * to subtract enter 2\n",
      "     * To multiply enter 3\n",
      "     * To divide enter 4\n",
      "     * To divide and find quotient enter 5\n",
      "     * To divide and find remainder enter 6\n",
      "     * To divide and find num1 to the power of num2 enter 7\n",
      "     * To Come out of the program enter 8\n",
      "    \n",
      "Enter first number: 20\n",
      "Enter second number: 40\n",
      "Enter operation: 3\n",
      "Result is  800\n",
      "Please select any one operation from below:-\n",
      "     * To add enter 1\n",
      "     * to subtract enter 2\n",
      "     * To multiply enter 3\n",
      "     * To divide enter 4\n",
      "     * To divide and find quotient enter 5\n",
      "     * To divide and find remainder enter 6\n",
      "     * To divide and find num1 to the power of num2 enter 7\n",
      "     * To Come out of the program enter 8\n",
      "    \n",
      "Enter first number: 8\n",
      "Enter second number: 9\n",
      "Enter operation: 8\n"
     ]
    }
   ],
   "source": [
    "# Q. W. A P. to implement calculator but the operation to be done and two\n",
    "# numbers will be taken as input from user:-\n",
    "# Operation console should show below:-\n",
    "#  Please select any one operation from below:-\n",
    "#  * To add enter 1\n",
    "#  * to subtract enter 2\n",
    "#  * To multiply enter 3\n",
    "#  * To divide enter 4\n",
    "#  * To divide and find quotient enter 5\n",
    "#  * To divide and find remainder enter 6\n",
    "#  * To divide and find num1 to the power of num2 enter 7\n",
    "#  * To Come out of the program enter 8\n",
    "\n",
    "while(True):\n",
    "    console_str = '''Please select any one operation from below:-\n",
    "     * To add enter 1\n",
    "     * to subtract enter 2\n",
    "     * To multiply enter 3\n",
    "     * To divide enter 4\n",
    "     * To divide and find quotient enter 5\n",
    "     * To divide and find remainder enter 6\n",
    "     * To divide and find num1 to the power of num2 enter 7\n",
    "     * To Come out of the program enter 8\n",
    "    '''\n",
    "    print(console_str)\n",
    "    num1=eval(input('Enter first number: '))\n",
    "    num2 = eval(input('Enter second number: '))\n",
    "    operation = eval(input('Enter operation: '))\n",
    "    if operation ==1:\n",
    "        output = num1+num2\n",
    "    elif(operation ==2):\n",
    "        output = num1-num2\n",
    "    elif(operation ==3):\n",
    "        output = num1*num2\n",
    "    elif(operation ==4):\n",
    "        output = num1/num2\n",
    "    elif(operation ==5):\n",
    "        output = num1//num2\n",
    "    elif(operation ==6):\n",
    "        output = num1 %num2\n",
    "    elif(operation ==7):\n",
    "        output = num1**num2\n",
    "    elif(operation ==8):\n",
    "        break;\n",
    "    print('Result is ',output)\n",
    "\n",
    "    \n"
   ]
  },
  {
   "cell_type": "code",
   "execution_count": 4,
   "metadata": {},
   "outputs": [
    {
     "name": "stdout",
     "output_type": "stream",
     "text": [
      "Enter Year: 1700\n",
      "1700 is not a Leap Year\n"
     ]
    }
   ],
   "source": [
    "# Q. W A P to check whether a year entered by user is an leap year or not?\n",
    "# Check with below input:-\n",
    "#  leap year:- 2012, 1968, 2004, 1200, 1600,2400\n",
    "#  Non-lear year:- 1971, 2006, 1700,1800,1900\n",
    "\n",
    "year = int(input(\"Enter Year: \"))\n",
    "\n",
    "# Leap Year Check\n",
    "if year % 4 == 0 and year % 100 != 0:\n",
    "    print(year, \"is a Leap Year\")\n",
    "elif year % 100 == 0:\n",
    "    print(year, \"is not a Leap Year\")\n",
    "elif year % 400 ==0:\n",
    "    print(year, \"is a Leap Year\")\n",
    "else:\n",
    "    print(year, \"is not a Leap Year\")\n"
   ]
  },
  {
   "cell_type": "code",
   "execution_count": 3,
   "metadata": {},
   "outputs": [
    {
     "name": "stdout",
     "output_type": "stream",
     "text": [
      "Enter Number30\n",
      "Number is even\n"
     ]
    }
   ],
   "source": [
    " ## Q. W A P which takes one number from the user and checks whether it is\n",
    "# an even or odd number?, If it even then prints number is\n",
    "# even number else prints that number is odd number. -->\n",
    "\n",
    "num = eval(input('Enter Number'))\n",
    "if (num % 2 ==0):\n",
    "    print('Number is even')\n",
    "else:\n",
    "    print('Number is odd')\n"
   ]
  },
  {
   "cell_type": "code",
   "execution_count": null,
   "metadata": {},
   "outputs": [],
   "source": [
    "# Q. W A P which takes two numbers from the user and prints below output:-\n",
    "#  1. num1 is greater than num2 if num1 is greater than num2\n",
    "#  2. num1 is smaller than num2 if num1 is smaller than num2\n",
    "#  3. num1 is equal to num2 if num1 and num2 are equal\n",
    "\n",
    "num1 = eval(input('Enter Number1: '))\n",
    "num2=eval(input('Enter Number2: '))\n",
    "if(num1 == num2):\n",
    "    print('num1 and num2 are equal')\n",
    "elif(num >num2):\n",
    "    print('num1 is greater than num2')\n",
    "elif(num1 <num2):\n",
    "    print('num1 is smaller than num2')\n"
   ]
  },
  {
   "cell_type": "code",
   "execution_count": null,
   "metadata": {},
   "outputs": [],
   "source": [
    "# Q. W A P which takes two numbers from the user and prints below output:-\n",
    "#  1. num1 is greater than num2 if num1 is greater than num2\n",
    "#  2. num1 is smaller than num2 if num1 is smaller than num2\n",
    "#  3. num1 is equal to num2 if num1 and num2 are equal\n",
    "#using Ternary operator\n",
    "\n",
    "num1 = eval(input('Enter Number1'))\n",
    "num2=eval(input('Enter Number2'))\n",
    "print('num1 is greater than num2') if (num1>num2)  else print('num 1 is smaller than num2') if (num1 <num2) else print('num 1 and num2 are equal')"
   ]
  },
  {
   "cell_type": "code",
   "execution_count": 12,
   "metadata": {},
   "outputs": [
    {
     "name": "stdout",
     "output_type": "stream",
     "text": [
      "Enter Number112\n",
      "Enter Number234\n",
      "Enter Number313\n",
      "num2 is greater than num1 and num3\n"
     ]
    }
   ],
   "source": [
    "# Q. W A P which takes three numbers from the user and prints below\n",
    "# output:-\n",
    "#  1. num1 is greater than num2 and num3 if num1 is greater than num2\n",
    "# and num3\n",
    "#  2. num2 is greater than num1 and num3 if num2 is greater than num1\n",
    "# and num3\n",
    "#  3. num3 is greater than num1 and num2 if num3 is greater than num1\n",
    "# and num2\n",
    "\n",
    "#Using if else\n",
    "\n",
    "num1 = eval(input('Enter Number1:'))\n",
    "num2=eval(input('Enter Number2:'))\n",
    "num3=eval(input('Enter Number3:'))\n",
    "\n",
    "if (num1>num2 and num1 >num3):\n",
    "    print('num1 is greater than num2 and num3')\n",
    "elif((num2>num1 and num2 >num3)):\n",
    "    print('num2 is greater than num1 and num3')\n",
    "else:\n",
    "    print('num3 is greater than num1 and num2')\n",
    "    \n",
    "    \n"
   ]
  },
  {
   "cell_type": "code",
   "execution_count": 3,
   "metadata": {},
   "outputs": [
    {
     "name": "stdout",
     "output_type": "stream",
     "text": [
      "Enter Number1:13\n",
      "Enter Number2:14\n",
      "Enter Number3:45\n",
      "num3 is greater than num1 and num2\n"
     ]
    }
   ],
   "source": [
    "# Q. W A P which takes three numbers from the user and prints below\n",
    "# output:-\n",
    "#  1. num1 is greater than num2 and num3 if num1 is greater than num2\n",
    "# and num3\n",
    "#  2. num2 is greater than num1 and num3 if num2 is greater than num1\n",
    "# and num3\n",
    "#  3. num3 is greater than num1 and num2 if num3 is greater than num1\n",
    "# and num2\n",
    "\n",
    "#Using Ternary operator\n",
    "\n",
    "num1 = eval(input('Enter Number1:'))\n",
    "num2=eval(input('Enter Number2:'))\n",
    "num3=eval(input('Enter Number3:'))\n",
    "\n",
    "print('num1 is greater than num2 and num3') if ((num1>num2) and (num1 >num3))else  print('num2 is greater than num1 and num3') if ((num2>num1) and (num2 >num3)) else print('num3 is greater than num1 and num2') "
   ]
  },
  {
   "cell_type": "code",
   "execution_count": 5,
   "metadata": {},
   "outputs": [
    {
     "name": "stdout",
     "output_type": "stream",
     "text": [
      "55\n"
     ]
    }
   ],
   "source": [
    "# Q. Write a Python program to find the length of the my_str using loop:-\n",
    "# Input:- 'Write a Python program to find the length of the my_str'\n",
    "# Output:- 55\n",
    "\n",
    "my_str = 'Write a Python program to find the length of the my_str'\n",
    "count = 0\n",
    "for i in my_str:\n",
    "    count = count +  1;\n",
    "print(count)"
   ]
  },
  {
   "cell_type": "code",
   "execution_count": 6,
   "metadata": {},
   "outputs": [
    {
     "name": "stdout",
     "output_type": "stream",
     "text": [
      "9\n"
     ]
    }
   ],
   "source": [
    "# Q. Write a Python program to find the total number of times letter 'p'\n",
    "# is appeared in the below string using loop:-\n",
    "# Input:- 'peter piper picked a peck of pickled peppers.\\n'\n",
    "# Output:- 9\n",
    "\n",
    "\n",
    "my_str = 'peter piper picked a peck of pickled peppers.\\n'\n",
    "iCount = 0\n",
    "for i in my_str:\n",
    "    if (i=='p'):\n",
    "        iCount = iCount + 1\n",
    "print(iCount)"
   ]
  },
  {
   "cell_type": "code",
   "execution_count": 8,
   "metadata": {},
   "outputs": [
    {
     "name": "stdout",
     "output_type": "stream",
     "text": [
      "Index: 0\n",
      "Index: 6\n",
      "Index: 8\n",
      "Index: 12\n",
      "Index: 21\n",
      "Index: 29\n",
      "Index: 37\n",
      "Index: 39\n",
      "Index: 40\n"
     ]
    }
   ],
   "source": [
    "# Q. Write a Python Program, to print all the indexes of all occurences of\n",
    "# letter 'p' appeared in the string using loop:-\n",
    "# Input:- 'peter piper picked a peck of pickled peppers.'\n",
    "# Output:-\n",
    "# 0\n",
    "# 6\n",
    "# 8\n",
    "# 12\n",
    "# 21\n",
    "# 29\n",
    "# 37\n",
    "# 39\n",
    "# 40\n",
    "\n",
    "my_str = 'peter piper picked a peck of pickled peppers.'\n",
    "\n",
    "for i in range (len(my_str)):\n",
    "    if ((my_str[i])=='p'):\n",
    "        print ('Index:',i)\n",
    "        "
   ]
  },
  {
   "cell_type": "code",
   "execution_count": 86,
   "metadata": {},
   "outputs": [
    {
     "name": "stdout",
     "output_type": "stream",
     "text": [
      "['peter', 'piper', 'picked', 'a', 'peck', 'of', 'pickled', 'peppers']\n"
     ]
    }
   ],
   "source": [
    "# Q. Write a python program to find below output using loop:-\n",
    "# Input:- 'peter piper picked a peck of pickled peppers.'\n",
    "# Output:- ['peter', 'piper', 'picked', 'a', 'peck', 'of', 'pickled',\n",
    "# 'peppers']\n",
    "\n",
    "str =  'peter piper picked a peck of pickled peppers.'\n",
    "\n",
    "lst = []\n",
    "i=0\n",
    "start = 0\n",
    "while (i<len(str)):\n",
    "    if (str[i]==' ' or str[i]=='.'):\n",
    "        lst.append(str[start:i:1])\n",
    "        start = i+1\n",
    "    i+=1\n",
    "    \n",
    "print(lst)     "
   ]
  },
  {
   "cell_type": "code",
   "execution_count": 2,
   "metadata": {},
   "outputs": [
    {
     "name": "stdout",
     "output_type": "stream",
     "text": [
      " peppers pickled  of  peck  a  picked  piper \n"
     ]
    }
   ],
   "source": [
    "# Q. Write a python program to find below output using loop:-\n",
    "# Input:- 'peter piper picked a peck of pickled peppers.'\n",
    "# Output:- 'peppers pickled of peck a picked piper peter'\n",
    "\n",
    "str =  'peter piper picked a peck of pickled peppers.'\n",
    "\n",
    "strout = ''\n",
    "i=len(str)-1\n",
    "start = i\n",
    "while (i>=0):\n",
    "    if (str[i]==' '):\n",
    "        strout= strout+(str[i:start:1])\n",
    "        start = i+1\n",
    "    i-=1\n",
    "print(strout)"
   ]
  },
  {
   "cell_type": "code",
   "execution_count": 3,
   "metadata": {},
   "outputs": [
    {
     "name": "stdout",
     "output_type": "stream",
     "text": [
      ".sreppep delkcip fo kcep a dekcip repip retep\n"
     ]
    }
   ],
   "source": [
    "# Q. Write a python program to find below output using loop:-\n",
    "# Input:- 'peter piper picked a peck of pickled peppers.'\n",
    "# Output:- '.sreppep delkcip fo kcep a dekcip repip retep'\n",
    "str = 'peter piper picked a peck of pickled peppers.'\n",
    "strout= ''\n",
    "i = len(str)-1\n",
    "while(i>=0):\n",
    "    strout=strout+str[i]\n",
    "    i= i-1\n",
    "print(strout)\n",
    "    "
   ]
  },
  {
   "cell_type": "code",
   "execution_count": 22,
   "metadata": {},
   "outputs": [
    {
     "name": "stdout",
     "output_type": "stream",
     "text": [
      " repip dekcip a kcep fo delkcip sreppep \n"
     ]
    }
   ],
   "source": [
    "# Q. Write a python program to find below output using loop:-\n",
    "# Input:- 'peter piper picked a peck of pickled peppers.'\n",
    "# Output:- 'retep repip dekcip a kcep fo delkcip sreppep'\n",
    "\n",
    "str =  'peter piper picked a peck of pickled peppers.'\n",
    "\n",
    "strout = ''\n",
    "i=0\n",
    "start = -1\n",
    "while (i<len(str)):\n",
    "    if ((str[i]==' ') or (str[i] == '.')):\n",
    "        strout+=(str[i-1:start:-1])+' '\n",
    "        start = i\n",
    "    i+=1\n",
    "print(strout) "
   ]
  },
  {
   "cell_type": "code",
   "execution_count": 36,
   "metadata": {},
   "outputs": [
    {
     "name": "stdout",
     "output_type": "stream",
     "text": [
      "Peter Piper Picked A Peck Of Pickled Peppers.\n"
     ]
    }
   ],
   "source": [
    "# Q. Write a python program to find below output using loop:-\n",
    "# Input:- 'peter piper picked a peck of pickled peppers.'\n",
    "# Output:- 'Peter Piper Picked A Peck Of Pickled Peppers'\n",
    "\n",
    "str = 'peter piper picked a peck of pickled peppers.'\n",
    "i = 1\n",
    "strout = str[0].upper()\n",
    "while (i<len(str)):\n",
    "    if (str[i]== ' '):\n",
    "        strout=strout+str[i]+str[i+1].upper()\n",
    "        i+=2\n",
    "    else:\n",
    "        if (i==len(str)):\n",
    "            break;\n",
    "        strout=strout+str[i]\n",
    "        i+=1\n",
    "print(strout)"
   ]
  },
  {
   "cell_type": "code",
   "execution_count": 38,
   "metadata": {},
   "outputs": [
    {
     "name": "stdout",
     "output_type": "stream",
     "text": [
      "Peter piper picked a peck of pickled peppers.\n"
     ]
    }
   ],
   "source": [
    "# Q. Write a python program to find below output using loop:-\n",
    "# Input:- 'Peter Piper Picked A Peck Of Pickled Peppers.'\n",
    "# Output:- 'Peter piper picked a peck of pickled peppers'\n",
    "\n",
    "str = 'Peter Piper Picked A Peck Of Pickled Peppers.'\n",
    "\n",
    "strout = str[0]\n",
    "i = 1\n",
    "while (i<len(str)):\n",
    "    if (str[i]== ' '):\n",
    "        strout=strout+str[i]+str[i+1].lower()\n",
    "        i+=2\n",
    "    else:\n",
    "        if (i==len(str)):\n",
    "            break;\n",
    "        strout=strout+str[i]\n",
    "        i+=1\n",
    "print(strout)"
   ]
  },
  {
   "cell_type": "code",
   "execution_count": 61,
   "metadata": {},
   "outputs": [
    {
     "name": "stdout",
     "output_type": "stream",
     "text": [
      "Index: 29\n"
     ]
    }
   ],
   "source": [
    "# Q. Write a python program to implement index method using loop. If\n",
    "# sub_str is found in my_str then it will print the index\n",
    "# of first occurrence of first character of matching string in my_str:-\n",
    "# Input:- my_str = 'Peter Piper Picked A Peck Of Pickled Peppers.',\n",
    "# sub_str = 'Pickl'\n",
    "# Output:- 29\n",
    "\n",
    "str = 'Peter Piper Picked A Peck Of Pickled Peppers.'\n",
    "substr ='Pickl' \n",
    "i = 0\n",
    "\n",
    "while(i<len(str)):\n",
    "    if (str[i:i+len(substr):1]==substr):\n",
    "        index = i;\n",
    "        break\n",
    "    else:\n",
    "        i+=1\n",
    "print('Index:',i)"
   ]
  },
  {
   "cell_type": "code",
   "execution_count": 62,
   "metadata": {},
   "outputs": [
    {
     "name": "stdout",
     "output_type": "stream",
     "text": [
      "Index: 21\n",
      "Peter Piper Picked A Pack Of Pickled Peppers.\n"
     ]
    }
   ],
   "source": [
    "# Q. Write a python program to implement replace method using loop. If\n",
    "# sub_str is found in my_str then it will replace the first\n",
    "# occurrence of sub_str with new_str else it will will print sub_str not\n",
    "# found:-\n",
    "# Input:- my_str = 'Peter Piper Picked A Peck Of Pickled Peppers.',\n",
    "# sub_str = 'Peck', new_str = 'Pack'\n",
    "# Output:- 'Peter Piper Picked A Pack Of Pickled Peppers.'\n",
    "str = 'Peter Piper Picked A Peck Of Pickled Peppers.'\n",
    "substr = 'Peck'\n",
    "newstr = 'Pack'\n",
    "i = 0\n",
    "strout = ''\n",
    "while(i<len(str)):\n",
    "    if (str[i:i+len(substr):1]==substr):\n",
    "        index = i;\n",
    "        break\n",
    "    else:\n",
    "        i+=1\n",
    "print('Index:',i)\n",
    "strout= str[0:i:1]+newstr+str[i+len(substr):len(str):1]\n",
    "print(strout)"
   ]
  },
  {
   "cell_type": "code",
   "execution_count": 16,
   "metadata": {},
   "outputs": [
    {
     "name": "stdout",
     "output_type": "stream",
     "text": [
      "*********************Peck********************\n"
     ]
    }
   ],
   "source": [
    "# Q. Write a python program to find below output (implements rjust and\n",
    "# ljust) using loop:-\n",
    "# Input:- 'Peter Piper Picked A Peck Of Pickled Peppers.', sub_str =\n",
    "# 'Peck',\n",
    "# Output:- '*********************Peck********************'\n",
    "\n",
    "str = 'Peter Piper Picked A Peck Of Pickled Peppers.'\n",
    "substr = 'Peck'\n",
    "i = 0\n",
    "strout = ''\n",
    "while(i<len(str)):\n",
    "    if (str[i:i+len(substr):1]==substr):\n",
    "        index = i;\n",
    "        break\n",
    "    else:\n",
    "        i+=1\n",
    "#print('Index:',i)\n",
    "strout = ('*' *i)+substr+('*'*(len(str)-i-len(substr)))\n",
    "print(strout)\n"
   ]
  },
  {
   "cell_type": "code",
   "execution_count": 15,
   "metadata": {},
   "outputs": [
    {
     "name": "stdout",
     "output_type": "stream",
     "text": [
      "['This', 'is', 'Python class']\n"
     ]
    }
   ],
   "source": [
    "# Q. Write a python program to find below output using loop:-\n",
    "# Input:- 'This is Python class', sep = ' is',\n",
    "# Output:- ['This', 'is', 'Python class']\n",
    "\n",
    "\n",
    "str = 'This is Python class'\n",
    "sep = 'is'\n",
    "lst = []\n",
    "i=0\n",
    "index = 0\n",
    "while (i<len(str)):\n",
    "    if (str[i]==' '):\n",
    "        if ((str[i+1:i+1+len(sep):1]) == sep):\n",
    "            index = i+1\n",
    "            break;\n",
    "    i+=1 \n",
    "left =str[0:index:1]\n",
    "right = str[index+len(sep):len(str):1]\n",
    "lst.append(left.strip())\n",
    "lst.append(sep)\n",
    "lst.append(right.strip())\n",
    "print(lst)"
   ]
  },
  {
   "cell_type": "code",
   "execution_count": null,
   "metadata": {},
   "outputs": [],
   "source": []
  }
 ],
 "metadata": {
  "kernelspec": {
   "display_name": "Python 3",
   "language": "python",
   "name": "python3"
  },
  "language_info": {
   "codemirror_mode": {
    "name": "ipython",
    "version": 3
   },
   "file_extension": ".py",
   "mimetype": "text/x-python",
   "name": "python",
   "nbconvert_exporter": "python",
   "pygments_lexer": "ipython3",
   "version": "3.8.5"
  }
 },
 "nbformat": 4,
 "nbformat_minor": 4
}
