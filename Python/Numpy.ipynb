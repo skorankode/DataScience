{
 "cells": [
  {
   "cell_type": "code",
   "execution_count": 6,
   "metadata": {},
   "outputs": [],
   "source": [
    "import numpy as np"
   ]
  },
  {
   "cell_type": "code",
   "execution_count": 10,
   "metadata": {},
   "outputs": [
    {
     "data": {
      "text/plain": [
       "'1.19.2'"
      ]
     },
     "execution_count": 10,
     "metadata": {},
     "output_type": "execute_result"
    }
   ],
   "source": [
    "# Write a Python program to print the NumPy version in your system.\n",
    "np.version.version"
   ]
  },
  {
   "cell_type": "code",
   "execution_count": 14,
   "metadata": {},
   "outputs": [
    {
     "data": {
      "text/plain": [
       "array([9, 8, 7, 6, 5, 4, 3, 2, 1])"
      ]
     },
     "execution_count": 14,
     "metadata": {},
     "output_type": "execute_result"
    }
   ],
   "source": [
    "# Write a Python program to reverse an array (first element becomes last).\n",
    "arr=np.arange(1,10)\n",
    "# arr\n",
    "\n",
    "arr[::-1]"
   ]
  },
  {
   "cell_type": "code",
   "execution_count": 16,
   "metadata": {},
   "outputs": [
    {
     "data": {
      "text/plain": [
       "array([[1, 2],\n",
       "       [3, 4],\n",
       "       [5, 6]])"
      ]
     },
     "execution_count": 16,
     "metadata": {},
     "output_type": "execute_result"
    }
   ],
   "source": [
    "# Write a Python program to convert a list and tuple into arrays.\n",
    "lst = [1,2,3,4]\n",
    "np.array(lst)\n",
    "tup=((1,2),(3,4),(5,6))\n",
    "np.array(tup)"
   ]
  },
  {
   "cell_type": "code",
   "execution_count": 20,
   "metadata": {},
   "outputs": [
    {
     "data": {
      "text/plain": [
       "array([1, 2])"
      ]
     },
     "execution_count": 20,
     "metadata": {},
     "output_type": "execute_result"
    }
   ],
   "source": [
    "# Write a Python program to find common values between two arrays.\n",
    "\n",
    "arr1=np.arange(1,9)\n",
    "arr2=np.array([1,2])\n",
    "coms = np.intersect1d(arr1,arr2)\n",
    "coms"
   ]
  },
  {
   "cell_type": "code",
   "execution_count": 22,
   "metadata": {},
   "outputs": [
    {
     "data": {
      "text/plain": [
       "array([False, False, False, False, False])"
      ]
     },
     "execution_count": 22,
     "metadata": {},
     "output_type": "execute_result"
    }
   ],
   "source": [
    "# Write a Python program compare two arrays using numpy.\n",
    "arr1=np.array([1,2,3,4,5])\n",
    "arr2=np.array([5,6,7,8,9])\n",
    "arr1==arr2"
   ]
  },
  {
   "cell_type": "code",
   "execution_count": 26,
   "metadata": {},
   "outputs": [
    {
     "name": "stdout",
     "output_type": "stream",
     "text": [
      "[[1 2]\n",
      " [3 4]\n",
      " [4 5]\n",
      " [6 7]]\n"
     ]
    }
   ],
   "source": [
    "# Write a Python program to change the dimension of an array.\n",
    "arr1=np.array([[1,2,3,4],\n",
    "             [4,5,6,7]])\n",
    "arr1.shape\n",
    "arr1.shape=4,2\n",
    "print(arr1)"
   ]
  },
  {
   "cell_type": "code",
   "execution_count": 33,
   "metadata": {},
   "outputs": [
    {
     "data": {
      "text/plain": [
       "2318"
      ]
     },
     "execution_count": 33,
     "metadata": {},
     "output_type": "execute_result"
    }
   ],
   "source": [
    "#Write a Python program (using numpy) to sum of all the multiples of 3 or 5 below 100.\n",
    "arr1=np.arange(1,100)\n",
    "mul =arr1 [(arr1 % 3 == 0 ) | (arr1%5 ==0)]\n",
    "mul.sum()\n"
   ]
  },
  {
   "cell_type": "code",
   "execution_count": 40,
   "metadata": {},
   "outputs": [
    {
     "data": {
      "text/plain": [
       "[[11, 12, 5, 2], [15, 6, 10, 100], [10, 8, 12, 5], [12, 15, 8, 6]]"
      ]
     },
     "execution_count": 40,
     "metadata": {},
     "output_type": "execute_result"
    }
   ],
   "source": [
    "# Write a Python program to convert a NumPy array into Python list structure.\n",
    "\n",
    "#1D example\n",
    "arr=np.arange(1,10)\n",
    "arr.tolist()\n",
    "#2D example\n",
    "twodarr = np.array([[11, 12, 5, 2], [15, 6,10,100], [10, 8, 12, 5], [12,15,8,6]])\n",
    "twodarr.tolist()"
   ]
  },
  {
   "cell_type": "code",
   "execution_count": 45,
   "metadata": {},
   "outputs": [
    {
     "data": {
      "text/plain": [
       "array([[10,  9, 40, 10],\n",
       "       [45,  6, 70, 20],\n",
       "       [90, 24,  8, 30]])"
      ]
     },
     "execution_count": 45,
     "metadata": {},
     "output_type": "execute_result"
    }
   ],
   "source": [
    "# Write a Python program to how to add an extra column to a numpy array.\n",
    "arr1 = np.array([[10,9,40],\n",
    "                 [45,6,70],\n",
    "                 [90,24,8]])\n",
    "arr2=np.array([[10],\n",
    "             [20],\n",
    "              [30]])\n",
    "np.append(arr1,arr2,axis = 1)"
   ]
  },
  {
   "cell_type": "code",
   "execution_count": 48,
   "metadata": {},
   "outputs": [
    {
     "name": "stdout",
     "output_type": "stream",
     "text": [
      "Arr2 is empty\n"
     ]
    }
   ],
   "source": [
    "# Write a Python program to check whether the numpy array is empty or not.\n",
    "arr1 = np.array([[10,9,40],\n",
    "                 [45,6,70],\n",
    "                 [90,24,8]])\n",
    "arr2=np.array([])\n",
    "\n",
    "arr1.size\n",
    "arr2.size\n",
    "\n",
    "if (arr1.size ==0):\n",
    "    print('Array1 is empty')\n",
    "if(arr2.size == 0):\n",
    "    print('Arr2 is empty')"
   ]
  },
  {
   "cell_type": "code",
   "execution_count": 50,
   "metadata": {},
   "outputs": [
    {
     "data": {
      "text/plain": [
       "array([[0.68326639, 0.64276062, 0.18003629],\n",
       "       [0.00844872, 0.68231745, 0.39683517],\n",
       "       [0.28223225, 0.97879977, 0.64263197]])"
      ]
     },
     "execution_count": 50,
     "metadata": {},
     "output_type": "execute_result"
    }
   ],
   "source": [
    "# Write a Python program to normalize a 3x3 random matrix.\n",
    "\n",
    "np.random.rand(3,3)"
   ]
  },
  {
   "cell_type": "code",
   "execution_count": 51,
   "metadata": {},
   "outputs": [
    {
     "data": {
      "text/plain": [
       "{'divide': 'warn', 'over': 'warn', 'under': 'ignore', 'invalid': 'warn'}"
      ]
     },
     "execution_count": 51,
     "metadata": {},
     "output_type": "execute_result"
    }
   ],
   "source": [
    "# How to ignore all numpy warnings (not recommended)?\n",
    "np.seterr(all='ignore')"
   ]
  },
  {
   "cell_type": "code",
   "execution_count": 70,
   "metadata": {},
   "outputs": [
    {
     "name": "stdout",
     "output_type": "stream",
     "text": [
      "[[0 1]\n",
      " [2 3]\n",
      " [4 5]\n",
      " [6 7]\n",
      " [8 9]]\n",
      "[[0 1]\n",
      " [4 5]]\n"
     ]
    },
    {
     "data": {
      "text/plain": [
       "array([[4, 5],\n",
       "       [2, 3],\n",
       "       [0, 1],\n",
       "       [6, 7],\n",
       "       [8, 9]])"
      ]
     },
     "execution_count": 70,
     "metadata": {},
     "output_type": "execute_result"
    }
   ],
   "source": [
    "# How to swap two rows of an array?\n",
    "arr1=np.arange(0,10).reshape(5,2)\n",
    "print(arr1)\n",
    "print(arr1[[0, 2]])\n",
    "arr1[[0, 2]] = arr1[[2, 0]]\n",
    "arr1"
   ]
  },
  {
   "cell_type": "code",
   "execution_count": null,
   "metadata": {},
   "outputs": [],
   "source": [
    "#  Compute bootstrapped 95% confidence intervals for the mean of a \n",
    "# 1D array X (i.e., resample the elements of an array with replacement N times, compute the\n",
    "# mean of each sample, and then compute percentiles over the means).\n",
    "\n",
    "#Assignment doubt question"
   ]
  },
  {
   "cell_type": "code",
   "execution_count": 72,
   "metadata": {},
   "outputs": [
    {
     "data": {
      "text/plain": [
       "array([0.12683197, 0.14280121, 0.19192438, 0.23999626, 0.24615113,\n",
       "       0.38692681, 0.48932738, 0.50711446, 0.63376902, 0.95538641])"
      ]
     },
     "execution_count": 72,
     "metadata": {},
     "output_type": "execute_result"
    }
   ],
   "source": [
    "# Python program to create a random vector of size 10 and sort it.\n",
    "import numpy as np\n",
    "randvect = np.random.random(10)\n",
    "randvect.sort()\n",
    "randvect"
   ]
  },
  {
   "cell_type": "code",
   "execution_count": 77,
   "metadata": {},
   "outputs": [
    {
     "name": "stdout",
     "output_type": "stream",
     "text": [
      "False\n"
     ]
    }
   ],
   "source": [
    "# Write a Python program to check two random arrays are equal or not.\n",
    "arr1=np.random.randint(1,10,5)\n",
    "arr1\n",
    "arr2=np.random.randint(1,20,5)\n",
    "arr2\n",
    "array_equal = np.allclose(arr1,arr2)\n",
    "print(array_equal)"
   ]
  },
  {
   "cell_type": "code",
   "execution_count": 79,
   "metadata": {},
   "outputs": [
    {
     "name": "stdout",
     "output_type": "stream",
     "text": [
      "2.5\n",
      "15.409999999999998\n",
      "2.0\n",
      "5\n"
     ]
    }
   ],
   "source": [
    "# Write a Python program to add, subtract, multiply, divide arguments element-wise.\n",
    "print(np.add(1.2,1.3))\n",
    "print(np.multiply(2.3,6.7))\n",
    "print(np.divide(6,3))\n",
    "print(np.subtract(10,5))"
   ]
  },
  {
   "cell_type": "code",
   "execution_count": 82,
   "metadata": {},
   "outputs": [
    {
     "name": "stdout",
     "output_type": "stream",
     "text": [
      "yesterday 2021-02-13\n",
      "tomorrow 2021-02-15\n",
      "today 2021-02-14\n"
     ]
    }
   ],
   "source": [
    "# Write a Python program to get the dates of yesterday, today and tomorrow.\n",
    "yesterday = np.datetime64('today','D')-np.timedelta64(1,'D')\n",
    "tomorrow = np.datetime64('today','D')+np.timedelta64(1,'D')\n",
    "today = np.datetime64('today','D')\n",
    "print('yesterday',yesterday)\n",
    "print('tomorrow',tomorrow)\n",
    "print('today',today)"
   ]
  },
  {
   "cell_type": "code",
   "execution_count": null,
   "metadata": {},
   "outputs": [],
   "source": []
  }
 ],
 "metadata": {
  "kernelspec": {
   "display_name": "Python 3",
   "language": "python",
   "name": "python3"
  },
  "language_info": {
   "codemirror_mode": {
    "name": "ipython",
    "version": 3
   },
   "file_extension": ".py",
   "mimetype": "text/x-python",
   "name": "python",
   "nbconvert_exporter": "python",
   "pygments_lexer": "ipython3",
   "version": "3.8.5"
  }
 },
 "nbformat": 4,
 "nbformat_minor": 4
}
